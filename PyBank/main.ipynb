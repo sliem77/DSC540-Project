{
  "nbformat": 4,
  "nbformat_minor": 0,
  "metadata": {
    "colab": {
      "provenance": [],
      "include_colab_link": true
    },
    "kernelspec": {
      "name": "python3",
      "display_name": "Python 3"
    },
    "language_info": {
      "name": "python"
    }
  },
  "cells": [
    {
      "cell_type": "markdown",
      "metadata": {
        "id": "view-in-github",
        "colab_type": "text"
      },
      "source": [
        "<a href=\"https://colab.research.google.com/github/sliem77/DSC540-Project/blob/main/PyBank/main.ipynb\" target=\"_parent\"><img src=\"https://colab.research.google.com/assets/colab-badge.svg\" alt=\"Open In Colab\"/></a>"
      ]
    },
    {
      "cell_type": "code",
      "execution_count": 84,
      "metadata": {
        "id": "seh9s4JNvLj5"
      },
      "outputs": [],
      "source": [
        "import pandas as pd\n",
        "#Importing the pandas package for data analysis."
      ]
    },
    {
      "cell_type": "code",
      "source": [
        "df = pd.read_csv(\"budget_data.csv\")\n",
        "df.head()\n",
        "#This is to put the csv information into a dataframe. I then checked the first 5 rows using the head()\n",
        "#function to check if it's correct."
      ],
      "metadata": {
        "colab": {
          "base_uri": "https://localhost:8080/",
          "height": 204
        },
        "id": "JuvIJD6LvYXF",
        "outputId": "58f5b61c-6116-4677-94b1-d9cc69af22c2"
      },
      "execution_count": 85,
      "outputs": [
        {
          "output_type": "execute_result",
          "data": {
            "text/plain": [
              "     Date  Profit/Losses\n",
              "0  Jan-10        1088983\n",
              "1  Feb-10        -354534\n",
              "2  Mar-10         276622\n",
              "3  Apr-10        -728133\n",
              "4  May-10         852993"
            ],
            "text/html": [
              "\n",
              "  <div id=\"df-c3d2f051-c7b5-464f-8f3d-a401c78550b9\">\n",
              "    <div class=\"colab-df-container\">\n",
              "      <div>\n",
              "<style scoped>\n",
              "    .dataframe tbody tr th:only-of-type {\n",
              "        vertical-align: middle;\n",
              "    }\n",
              "\n",
              "    .dataframe tbody tr th {\n",
              "        vertical-align: top;\n",
              "    }\n",
              "\n",
              "    .dataframe thead th {\n",
              "        text-align: right;\n",
              "    }\n",
              "</style>\n",
              "<table border=\"1\" class=\"dataframe\">\n",
              "  <thead>\n",
              "    <tr style=\"text-align: right;\">\n",
              "      <th></th>\n",
              "      <th>Date</th>\n",
              "      <th>Profit/Losses</th>\n",
              "    </tr>\n",
              "  </thead>\n",
              "  <tbody>\n",
              "    <tr>\n",
              "      <th>0</th>\n",
              "      <td>Jan-10</td>\n",
              "      <td>1088983</td>\n",
              "    </tr>\n",
              "    <tr>\n",
              "      <th>1</th>\n",
              "      <td>Feb-10</td>\n",
              "      <td>-354534</td>\n",
              "    </tr>\n",
              "    <tr>\n",
              "      <th>2</th>\n",
              "      <td>Mar-10</td>\n",
              "      <td>276622</td>\n",
              "    </tr>\n",
              "    <tr>\n",
              "      <th>3</th>\n",
              "      <td>Apr-10</td>\n",
              "      <td>-728133</td>\n",
              "    </tr>\n",
              "    <tr>\n",
              "      <th>4</th>\n",
              "      <td>May-10</td>\n",
              "      <td>852993</td>\n",
              "    </tr>\n",
              "  </tbody>\n",
              "</table>\n",
              "</div>\n",
              "      <button class=\"colab-df-convert\" onclick=\"convertToInteractive('df-c3d2f051-c7b5-464f-8f3d-a401c78550b9')\"\n",
              "              title=\"Convert this dataframe to an interactive table.\"\n",
              "              style=\"display:none;\">\n",
              "        \n",
              "  <svg xmlns=\"http://www.w3.org/2000/svg\" height=\"24px\"viewBox=\"0 0 24 24\"\n",
              "       width=\"24px\">\n",
              "    <path d=\"M0 0h24v24H0V0z\" fill=\"none\"/>\n",
              "    <path d=\"M18.56 5.44l.94 2.06.94-2.06 2.06-.94-2.06-.94-.94-2.06-.94 2.06-2.06.94zm-11 1L8.5 8.5l.94-2.06 2.06-.94-2.06-.94L8.5 2.5l-.94 2.06-2.06.94zm10 10l.94 2.06.94-2.06 2.06-.94-2.06-.94-.94-2.06-.94 2.06-2.06.94z\"/><path d=\"M17.41 7.96l-1.37-1.37c-.4-.4-.92-.59-1.43-.59-.52 0-1.04.2-1.43.59L10.3 9.45l-7.72 7.72c-.78.78-.78 2.05 0 2.83L4 21.41c.39.39.9.59 1.41.59.51 0 1.02-.2 1.41-.59l7.78-7.78 2.81-2.81c.8-.78.8-2.07 0-2.86zM5.41 20L4 18.59l7.72-7.72 1.47 1.35L5.41 20z\"/>\n",
              "  </svg>\n",
              "      </button>\n",
              "      \n",
              "  <style>\n",
              "    .colab-df-container {\n",
              "      display:flex;\n",
              "      flex-wrap:wrap;\n",
              "      gap: 12px;\n",
              "    }\n",
              "\n",
              "    .colab-df-convert {\n",
              "      background-color: #E8F0FE;\n",
              "      border: none;\n",
              "      border-radius: 50%;\n",
              "      cursor: pointer;\n",
              "      display: none;\n",
              "      fill: #1967D2;\n",
              "      height: 32px;\n",
              "      padding: 0 0 0 0;\n",
              "      width: 32px;\n",
              "    }\n",
              "\n",
              "    .colab-df-convert:hover {\n",
              "      background-color: #E2EBFA;\n",
              "      box-shadow: 0px 1px 2px rgba(60, 64, 67, 0.3), 0px 1px 3px 1px rgba(60, 64, 67, 0.15);\n",
              "      fill: #174EA6;\n",
              "    }\n",
              "\n",
              "    [theme=dark] .colab-df-convert {\n",
              "      background-color: #3B4455;\n",
              "      fill: #D2E3FC;\n",
              "    }\n",
              "\n",
              "    [theme=dark] .colab-df-convert:hover {\n",
              "      background-color: #434B5C;\n",
              "      box-shadow: 0px 1px 3px 1px rgba(0, 0, 0, 0.15);\n",
              "      filter: drop-shadow(0px 1px 2px rgba(0, 0, 0, 0.3));\n",
              "      fill: #FFFFFF;\n",
              "    }\n",
              "  </style>\n",
              "\n",
              "      <script>\n",
              "        const buttonEl =\n",
              "          document.querySelector('#df-c3d2f051-c7b5-464f-8f3d-a401c78550b9 button.colab-df-convert');\n",
              "        buttonEl.style.display =\n",
              "          google.colab.kernel.accessAllowed ? 'block' : 'none';\n",
              "\n",
              "        async function convertToInteractive(key) {\n",
              "          const element = document.querySelector('#df-c3d2f051-c7b5-464f-8f3d-a401c78550b9');\n",
              "          const dataTable =\n",
              "            await google.colab.kernel.invokeFunction('convertToInteractive',\n",
              "                                                     [key], {});\n",
              "          if (!dataTable) return;\n",
              "\n",
              "          const docLinkHtml = 'Like what you see? Visit the ' +\n",
              "            '<a target=\"_blank\" href=https://colab.research.google.com/notebooks/data_table.ipynb>data table notebook</a>'\n",
              "            + ' to learn more about interactive tables.';\n",
              "          element.innerHTML = '';\n",
              "          dataTable['output_type'] = 'display_data';\n",
              "          await google.colab.output.renderOutput(dataTable, element);\n",
              "          const docLink = document.createElement('div');\n",
              "          docLink.innerHTML = docLinkHtml;\n",
              "          element.appendChild(docLink);\n",
              "        }\n",
              "      </script>\n",
              "    </div>\n",
              "  </div>\n",
              "  "
            ]
          },
          "metadata": {},
          "execution_count": 85
        }
      ]
    },
    {
      "cell_type": "code",
      "source": [
        "months = len(df[\"Date\"])\n",
        "#The number of months is taken from this code."
      ],
      "metadata": {
        "id": "RTCbxI7FwIne"
      },
      "execution_count": 86,
      "outputs": []
    },
    {
      "cell_type": "code",
      "source": [
        "total = sum(df[\"Profit/Losses\"])\n",
        "total\n",
        "#This is to calculate the total amount of money throughout the entire period."
      ],
      "metadata": {
        "colab": {
          "base_uri": "https://localhost:8080/"
        },
        "id": "Oau08fPNvZtZ",
        "outputId": "19c102e8-1a1b-409b-934e-ade2ec9db06d"
      },
      "execution_count": 87,
      "outputs": [
        {
          "output_type": "execute_result",
          "data": {
            "text/plain": [
              "22564198"
            ]
          },
          "metadata": {},
          "execution_count": 87
        }
      ]
    },
    {
      "cell_type": "code",
      "source": [
        "df[\"Changes\"] = df[\"Profit/Losses\"].shift(1) - df[\"Profit/Losses\"]\n",
        "#This code creates a new column called \"Changes\" which has values of the change for each month.\n",
        "\n",
        "df[\"Changes\"] = df[\"Changes\"].fillna(0)\n",
        "#This code replaces any NA values with 0.\n",
        "\n",
        "df[\"Changes\"] = df[\"Changes\"].astype(int)\n",
        "#This code changes the \"Changes\" column from a float to an integer.\n",
        "\n",
        "df[\"Changes\"] = df[\"Changes\"] * -1\n",
        "#This code multiplies each value by -1 to restore its original sign."
      ],
      "metadata": {
        "id": "A2nP7KUpvAb_"
      },
      "execution_count": 88,
      "outputs": []
    },
    {
      "cell_type": "code",
      "source": [
        "max_prof = max(df[\"Changes\"])\n",
        "min_prof = min(df[\"Changes\"])\n",
        "#The min and max variables contain the maximum and minimum change values.\n",
        "\n",
        "q_max = df.loc[df[\"Changes\"] == max_prof, \"Date\"].iloc[0]\n",
        "q_min = df.loc[df[\"Changes\"] == min_prof, \"Date\"].iloc[0]\n",
        "#The q min and max search for the date that is related to the maximum and minimum change values that were\n",
        "#made above.\n",
        "\n",
        "avg_change = round(sum(df[\"Changes\"])/(len(df) - 1), 2)\n",
        "#This average change between all values."
      ],
      "metadata": {
        "id": "rEjauBwkvLx2"
      },
      "execution_count": 89,
      "outputs": []
    },
    {
      "cell_type": "code",
      "source": [
        "output = open('output.txt', 'a')\n",
        "\n",
        "with open(\"output.txt\", \"a\") as output:\n",
        "  print(\"Financial Analysis\", file = output)\n",
        "  print(\"----------------------------\", file = output)\n",
        "  print(\"Total Months: \" + str(months), file = output)\n",
        "  print(\"Total: $\" + str(total), file = output)\n",
        "  print(\"Average Change: $\" + str(avg_change), file = output)\n",
        "  print(\"Greatest Increase in Profits: \" + str(q_max) + \" ($\" + str(max_prof) + \")\", file = output)\n",
        "  print(\"Greatest Decrease in Profits: \" + str(q_min) + \" ($\" + str(min_prof) + \")\", file = output)\n",
        "\n",
        "output.close()\n",
        "\n",
        "#This whole part is to essentially put all these print statements into one file, which is called \"output.txt\""
      ],
      "metadata": {
        "id": "8YpUfw76vZ9R"
      },
      "execution_count": 90,
      "outputs": []
    }
  ]
}